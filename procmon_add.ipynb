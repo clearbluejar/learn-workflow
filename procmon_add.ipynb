{
 "cells": [
  {
   "cell_type": "code",
   "execution_count": null,
   "metadata": {},
   "outputs": [],
   "source": [
    "from cvedata.procmon import PROCMON_MODLOAD_JSON_PATH\n",
    "import pandas as pd\n",
    "from pathlib import Path\n",
    "import matplotlib"
   ]
  },
  {
   "cell_type": "code",
   "execution_count": null,
   "metadata": {},
   "outputs": [],
   "source": [
    "proc_df = pd.read_json(PROCMON_MODLOAD_JSON_PATH)\n",
    "proc_df = proc_df.reset_index(names=['Path'])\n",
    "proc_df"
   ]
  },
  {
   "cell_type": "code",
   "execution_count": null,
   "metadata": {},
   "outputs": [],
   "source": [
    "import itertools\n",
    "#proc_df['User'].apply(lambda x: [item for item in x if item is not None]).apply(lambda y: list(itertools.chain.from_iterable(y))).apply(lambda z: ''.join(list([item for item in z if item is not None])) )\n",
    "#proc_df['User'].apply(lambda x: [item for item in x if item is not None]).apply(lambda y: [item for item in list(itertools.chain.from_iterable(y)))   ''.join(list([item for item in z if item is not None])\n",
    "proc_df['User'].apply(lambda y: y)"
   ]
  },
  {
   "cell_type": "code",
   "execution_count": null,
   "metadata": {},
   "outputs": [],
   "source": [
    "proc_df['User'].value_counts()"
   ]
  },
  {
   "cell_type": "code",
   "execution_count": null,
   "metadata": {},
   "outputs": [],
   "source": [
    "proc_df['is_priv'] = proc_df['User'].astype(str).str.contains('SYSTEM|SERVICE|LOCAL')\n",
    "proc_df[proc_df['is_priv'] == True]"
   ]
  },
  {
   "cell_type": "code",
   "execution_count": null,
   "metadata": {},
   "outputs": [],
   "source": [
    "results_df = pd.read_json(Path('gen_files/meta/pandas_query_df.json'))\n",
    "results_df = results_df.rename(columns={'VersionInfo.FileName': 'Path'})\n",
    "print(results_df.shape)\n",
    "#results_df.dropna(subset = ['Path'], inplace=True)\n",
    "results_df"
   ]
  },
  {
   "cell_type": "code",
   "execution_count": null,
   "metadata": {},
   "outputs": [],
   "source": [
    "print(proc_df.columns.to_list())\n",
    "print(proc_df.shape)\n",
    "print(results_df.columns.to_list())\n",
    "print(results_df.shape)\n",
    "\n",
    "merged_df = proc_df.merge(results_df, on='Path', how='inner')\n",
    "#merged_df['Path'].value_counts()\n",
    "merged_df.to_markdown('merged.md',tablefmt=\"github\")\n",
    "#merged_df.to_excel('merged.xlsx')"
   ]
  },
  {
   "cell_type": "code",
   "execution_count": null,
   "metadata": {},
   "outputs": [],
   "source": [
    "merged_df[merged_df['is_priv'] == True]"
   ]
  }
 ],
 "metadata": {
  "kernelspec": {
   "display_name": ".env",
   "language": "python",
   "name": "python3"
  },
  "language_info": {
   "codemirror_mode": {
    "name": "ipython",
    "version": 3
   },
   "file_extension": ".py",
   "mimetype": "text/x-python",
   "name": "python",
   "nbconvert_exporter": "python",
   "pygments_lexer": "ipython3",
   "version": "3.8.10"
  },
  "orig_nbformat": 4
 },
 "nbformat": 4,
 "nbformat_minor": 2
}
